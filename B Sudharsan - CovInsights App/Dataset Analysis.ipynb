{
 "cells": [
  {
   "cell_type": "markdown",
   "metadata": {},
   "source": [
    "### <center>CovInsights Dataset Prep and Analysis</center>\n",
    "\n",
    "**Dataset Source**\n",
    "\n",
    "- The dataset has been taken from : https://data.adb.org/dataset/covid-19-economic-impact-assessment-template\n",
    "\n",
    "**Tech Stack Used**\n",
    "- Frontend - React Native Mobile App\n",
    "- Backend - Flask hosted over Digital Ocean"
   ]
  },
  {
   "cell_type": "markdown",
   "metadata": {},
   "source": [
    "### Importing all packages"
   ]
  },
  {
   "cell_type": "code",
   "execution_count": 1,
   "metadata": {},
   "outputs": [],
   "source": [
    "import pandas as pd\n",
    "import numpy as np\n",
    "import matplotlib.pyplot as plt"
   ]
  },
  {
   "cell_type": "markdown",
   "metadata": {},
   "source": [
    "### Reading the dataset"
   ]
  },
  {
   "cell_type": "code",
   "execution_count": 2,
   "metadata": {},
   "outputs": [],
   "source": [
    "df = pd.read_csv('Dataset.csv')"
   ]
  },
  {
   "cell_type": "markdown",
   "metadata": {},
   "source": [
    "### Data Cleaning"
   ]
  },
  {
   "cell_type": "code",
   "execution_count": 3,
   "metadata": {},
   "outputs": [
    {
     "name": "stdout",
     "output_type": "stream",
     "text": [
      "(1576, 10)\n"
     ]
    },
    {
     "data": {
      "text/html": [
       "<div>\n",
       "<style scoped>\n",
       "    .dataframe tbody tr th:only-of-type {\n",
       "        vertical-align: middle;\n",
       "    }\n",
       "\n",
       "    .dataframe tbody tr th {\n",
       "        vertical-align: top;\n",
       "    }\n",
       "\n",
       "    .dataframe thead th {\n",
       "        text-align: right;\n",
       "    }\n",
       "</style>\n",
       "<table border=\"1\" class=\"dataframe\">\n",
       "  <thead>\n",
       "    <tr style=\"text-align: right;\">\n",
       "      <th></th>\n",
       "      <th>Economy</th>\n",
       "      <th>ADB Country Code</th>\n",
       "      <th>Sector</th>\n",
       "      <th>Country 2018 GDP</th>\n",
       "      <th>Scenario</th>\n",
       "      <th>as % of total GDP</th>\n",
       "      <th>in $ Mn</th>\n",
       "      <th>Employment (in 000)</th>\n",
       "      <th>as % of sector GDP</th>\n",
       "      <th>as % of sector employment</th>\n",
       "    </tr>\n",
       "  </thead>\n",
       "  <tbody>\n",
       "    <tr>\n",
       "      <th>0</th>\n",
       "      <td>Australia</td>\n",
       "      <td>AUS</td>\n",
       "      <td>Agriculture, Mining and Quarrying</td>\n",
       "      <td>1433904.349</td>\n",
       "      <td>Shorter containment, smaller demand shock</td>\n",
       "      <td>-0.33</td>\n",
       "      <td>4,671.70</td>\n",
       "      <td>18</td>\n",
       "      <td>-2.70</td>\n",
       "      <td>-2.65</td>\n",
       "    </tr>\n",
       "    <tr>\n",
       "      <th>1</th>\n",
       "      <td>Australia</td>\n",
       "      <td>AUS</td>\n",
       "      <td>Business, Trade, Personal, and Public Services</td>\n",
       "      <td>1433904.349</td>\n",
       "      <td>Shorter containment, smaller demand shock</td>\n",
       "      <td>-1.41</td>\n",
       "      <td>20,147.01</td>\n",
       "      <td>191</td>\n",
       "      <td>-2.31</td>\n",
       "      <td>-2.29</td>\n",
       "    </tr>\n",
       "    <tr>\n",
       "      <th>2</th>\n",
       "      <td>Australia</td>\n",
       "      <td>AUS</td>\n",
       "      <td>Hotel and restaurants and Other Personal Services</td>\n",
       "      <td>1433904.349</td>\n",
       "      <td>Shorter containment, smaller demand shock</td>\n",
       "      <td>-0.35</td>\n",
       "      <td>5,023.10</td>\n",
       "      <td>112</td>\n",
       "      <td>-6.70</td>\n",
       "      <td>-7.24</td>\n",
       "    </tr>\n",
       "    <tr>\n",
       "      <th>3</th>\n",
       "      <td>Australia</td>\n",
       "      <td>AUS</td>\n",
       "      <td>Light/Heavy Manufacturing, Utilities, and Cons...</td>\n",
       "      <td>1433904.349</td>\n",
       "      <td>Shorter containment, smaller demand shock</td>\n",
       "      <td>-0.39</td>\n",
       "      <td>5,660.89</td>\n",
       "      <td>54</td>\n",
       "      <td>-2.31</td>\n",
       "      <td>-2.29</td>\n",
       "    </tr>\n",
       "    <tr>\n",
       "      <th>4</th>\n",
       "      <td>Australia</td>\n",
       "      <td>AUS</td>\n",
       "      <td>Transport services</td>\n",
       "      <td>1433904.349</td>\n",
       "      <td>Shorter containment, smaller demand shock</td>\n",
       "      <td>-0.30</td>\n",
       "      <td>4,307.48</td>\n",
       "      <td>47</td>\n",
       "      <td>-6.47</td>\n",
       "      <td>-7.22</td>\n",
       "    </tr>\n",
       "  </tbody>\n",
       "</table>\n",
       "</div>"
      ],
      "text/plain": [
       "     Economy ADB Country Code  \\\n",
       "0  Australia              AUS   \n",
       "1  Australia              AUS   \n",
       "2  Australia              AUS   \n",
       "3  Australia              AUS   \n",
       "4  Australia              AUS   \n",
       "\n",
       "                                              Sector  Country 2018 GDP  \\\n",
       "0                  Agriculture, Mining and Quarrying       1433904.349   \n",
       "1     Business, Trade, Personal, and Public Services       1433904.349   \n",
       "2  Hotel and restaurants and Other Personal Services       1433904.349   \n",
       "3  Light/Heavy Manufacturing, Utilities, and Cons...       1433904.349   \n",
       "4                                 Transport services       1433904.349   \n",
       "\n",
       "                                    Scenario as % of total GDP     in $ Mn   \\\n",
       "0  Shorter containment, smaller demand shock             -0.33    4,671.70    \n",
       "1  Shorter containment, smaller demand shock             -1.41   20,147.01    \n",
       "2  Shorter containment, smaller demand shock             -0.35    5,023.10    \n",
       "3  Shorter containment, smaller demand shock             -0.39    5,660.89    \n",
       "4  Shorter containment, smaller demand shock             -0.30    4,307.48    \n",
       "\n",
       "  Employment (in 000) as % of sector GDP as % of sector employment  \n",
       "0                  18              -2.70                     -2.65  \n",
       "1                 191              -2.31                     -2.29  \n",
       "2                 112              -6.70                     -7.24  \n",
       "3                  54              -2.31                     -2.29  \n",
       "4                  47              -6.47                     -7.22  "
      ]
     },
     "execution_count": 3,
     "metadata": {},
     "output_type": "execute_result"
    }
   ],
   "source": [
    "df.replace('na', np.nan, inplace=True)\n",
    "print(df.shape)\n",
    "df.head()"
   ]
  },
  {
   "cell_type": "markdown",
   "metadata": {},
   "source": [
    "> Dropping Null Values"
   ]
  },
  {
   "cell_type": "code",
   "execution_count": 4,
   "metadata": {},
   "outputs": [
    {
     "data": {
      "text/plain": [
       "(1008, 10)"
      ]
     },
     "execution_count": 4,
     "metadata": {},
     "output_type": "execute_result"
    }
   ],
   "source": [
    "df.dropna(inplace=True, thresh=10)\n",
    "df.shape"
   ]
  },
  {
   "cell_type": "markdown",
   "metadata": {},
   "source": [
    "> Changing the data types"
   ]
  },
  {
   "cell_type": "code",
   "execution_count": 5,
   "metadata": {},
   "outputs": [],
   "source": [
    "df['as % of sector GDP'] = df['as % of sector GDP'].apply(pd.to_numeric, errors='coerce')\n",
    "df['Country 2018 GDP'] = df['Country 2018 GDP'].apply(pd.to_numeric, errors='coerce')\n",
    "df['as % of sector employment'] = df['as % of sector employment'].apply(pd.to_numeric, errors='coerce')\n",
    "df['as % of total GDP'] = df['as % of total GDP'].apply(pd.to_numeric, errors='coerce')\n",
    "df[' in $ Mn '] = df[' in $ Mn '].apply(pd.to_numeric, errors='coerce')\n",
    "df['Employment (in 000)'] = df['Employment (in 000)'].apply(pd.to_numeric, errors='coerce')"
   ]
  },
  {
   "cell_type": "markdown",
   "metadata": {},
   "source": [
    "### Extracting data for the Table - GDP (Country, GDP)"
   ]
  },
  {
   "cell_type": "code",
   "execution_count": 6,
   "metadata": {},
   "outputs": [
    {
     "data": {
      "text/plain": [
       "(1008, 10)"
      ]
     },
     "execution_count": 6,
     "metadata": {},
     "output_type": "execute_result"
    }
   ],
   "source": [
    "df.shape"
   ]
  },
  {
   "cell_type": "code",
   "execution_count": 7,
   "metadata": {},
   "outputs": [],
   "source": [
    "df_GDP = df[['Economy', 'Country 2018 GDP']]"
   ]
  },
  {
   "cell_type": "code",
   "execution_count": 8,
   "metadata": {},
   "outputs": [
    {
     "name": "stderr",
     "output_type": "stream",
     "text": [
      "/usr/lib/python3/dist-packages/ipykernel_launcher.py:2: SettingWithCopyWarning: \n",
      "A value is trying to be set on a copy of a slice from a DataFrame\n",
      "\n",
      "See the caveats in the documentation: http://pandas.pydata.org/pandas-docs/stable/user_guide/indexing.html#returning-a-view-versus-a-copy\n",
      "  \n"
     ]
    }
   ],
   "source": [
    "df_GDP.columns = ['Country', 'GDP']\n",
    "df_GDP.drop_duplicates(inplace=True)\n",
    "df_GDP.reset_index(inplace=True)"
   ]
  },
  {
   "cell_type": "code",
   "execution_count": 9,
   "metadata": {},
   "outputs": [
    {
     "name": "stderr",
     "output_type": "stream",
     "text": [
      "/home/sudharsan/.local/lib/python3.6/site-packages/pandas/core/frame.py:4117: SettingWithCopyWarning: \n",
      "A value is trying to be set on a copy of a slice from a DataFrame\n",
      "\n",
      "See the caveats in the documentation: http://pandas.pydata.org/pandas-docs/stable/user_guide/indexing.html#returning-a-view-versus-a-copy\n",
      "  errors=errors,\n"
     ]
    },
    {
     "data": {
      "text/html": [
       "<div>\n",
       "<style scoped>\n",
       "    .dataframe tbody tr th:only-of-type {\n",
       "        vertical-align: middle;\n",
       "    }\n",
       "\n",
       "    .dataframe tbody tr th {\n",
       "        vertical-align: top;\n",
       "    }\n",
       "\n",
       "    .dataframe thead th {\n",
       "        text-align: right;\n",
       "    }\n",
       "</style>\n",
       "<table border=\"1\" class=\"dataframe\">\n",
       "  <thead>\n",
       "    <tr style=\"text-align: right;\">\n",
       "      <th></th>\n",
       "      <th>Country</th>\n",
       "      <th>GDP</th>\n",
       "    </tr>\n",
       "  </thead>\n",
       "  <tbody>\n",
       "    <tr>\n",
       "      <th>0</th>\n",
       "      <td>Australia</td>\n",
       "      <td>1.433904e+06</td>\n",
       "    </tr>\n",
       "    <tr>\n",
       "      <th>1</th>\n",
       "      <td>Austria</td>\n",
       "      <td>4.552858e+05</td>\n",
       "    </tr>\n",
       "    <tr>\n",
       "      <th>2</th>\n",
       "      <td>Belgium</td>\n",
       "      <td>5.427611e+05</td>\n",
       "    </tr>\n",
       "    <tr>\n",
       "      <th>3</th>\n",
       "      <td>Bulgaria</td>\n",
       "      <td>6.513295e+04</td>\n",
       "    </tr>\n",
       "    <tr>\n",
       "      <th>4</th>\n",
       "      <td>Brazil</td>\n",
       "      <td>1.868626e+06</td>\n",
       "    </tr>\n",
       "    <tr>\n",
       "      <th>...</th>\n",
       "      <td>...</td>\n",
       "      <td>...</td>\n",
       "    </tr>\n",
       "    <tr>\n",
       "      <th>57</th>\n",
       "      <td>Cambodia</td>\n",
       "      <td>2.454247e+04</td>\n",
       "    </tr>\n",
       "    <tr>\n",
       "      <th>58</th>\n",
       "      <td>Maldives</td>\n",
       "      <td>5.327457e+03</td>\n",
       "    </tr>\n",
       "    <tr>\n",
       "      <th>59</th>\n",
       "      <td>Nepal</td>\n",
       "      <td>2.904040e+04</td>\n",
       "    </tr>\n",
       "    <tr>\n",
       "      <th>60</th>\n",
       "      <td>Singapore</td>\n",
       "      <td>3.641567e+05</td>\n",
       "    </tr>\n",
       "    <tr>\n",
       "      <th>61</th>\n",
       "      <td>Hong Kong, China</td>\n",
       "      <td>3.626820e+05</td>\n",
       "    </tr>\n",
       "  </tbody>\n",
       "</table>\n",
       "<p>62 rows × 2 columns</p>\n",
       "</div>"
      ],
      "text/plain": [
       "             Country           GDP\n",
       "0          Australia  1.433904e+06\n",
       "1            Austria  4.552858e+05\n",
       "2            Belgium  5.427611e+05\n",
       "3           Bulgaria  6.513295e+04\n",
       "4             Brazil  1.868626e+06\n",
       "..               ...           ...\n",
       "57          Cambodia  2.454247e+04\n",
       "58          Maldives  5.327457e+03\n",
       "59             Nepal  2.904040e+04\n",
       "60         Singapore  3.641567e+05\n",
       "61  Hong Kong, China  3.626820e+05\n",
       "\n",
       "[62 rows x 2 columns]"
      ]
     },
     "execution_count": 9,
     "metadata": {},
     "output_type": "execute_result"
    }
   ],
   "source": [
    "df_GDP.drop('index', inplace=True, axis=1)\n",
    "df_GDP"
   ]
  },
  {
   "cell_type": "code",
   "execution_count": 10,
   "metadata": {},
   "outputs": [
    {
     "name": "stderr",
     "output_type": "stream",
     "text": [
      "/usr/lib/python3/dist-packages/ipykernel_launcher.py:1: SettingWithCopyWarning: \n",
      "A value is trying to be set on a copy of a slice from a DataFrame\n",
      "\n",
      "See the caveats in the documentation: http://pandas.pydata.org/pandas-docs/stable/user_guide/indexing.html#returning-a-view-versus-a-copy\n",
      "  \"\"\"Entry point for launching an IPython kernel.\n"
     ]
    },
    {
     "data": {
      "text/html": [
       "<div>\n",
       "<style scoped>\n",
       "    .dataframe tbody tr th:only-of-type {\n",
       "        vertical-align: middle;\n",
       "    }\n",
       "\n",
       "    .dataframe tbody tr th {\n",
       "        vertical-align: top;\n",
       "    }\n",
       "\n",
       "    .dataframe thead th {\n",
       "        text-align: right;\n",
       "    }\n",
       "</style>\n",
       "<table border=\"1\" class=\"dataframe\">\n",
       "  <thead>\n",
       "    <tr style=\"text-align: right;\">\n",
       "      <th></th>\n",
       "      <th>Country</th>\n",
       "      <th>GDP</th>\n",
       "    </tr>\n",
       "  </thead>\n",
       "  <tbody>\n",
       "    <tr>\n",
       "      <th>42</th>\n",
       "      <td>United States</td>\n",
       "      <td>2.054434e+07</td>\n",
       "    </tr>\n",
       "    <tr>\n",
       "      <th>7</th>\n",
       "      <td>People's Republic of China</td>\n",
       "      <td>1.360815e+07</td>\n",
       "    </tr>\n",
       "    <tr>\n",
       "      <th>24</th>\n",
       "      <td>Japan</td>\n",
       "      <td>4.971323e+06</td>\n",
       "    </tr>\n",
       "    <tr>\n",
       "      <th>10</th>\n",
       "      <td>Germany</td>\n",
       "      <td>3.947620e+06</td>\n",
       "    </tr>\n",
       "    <tr>\n",
       "      <th>16</th>\n",
       "      <td>United Kingdom</td>\n",
       "      <td>2.855297e+06</td>\n",
       "    </tr>\n",
       "    <tr>\n",
       "      <th>...</th>\n",
       "      <td>...</td>\n",
       "      <td>...</td>\n",
       "    </tr>\n",
       "    <tr>\n",
       "      <th>49</th>\n",
       "      <td>Mongolia</td>\n",
       "      <td>1.306675e+04</td>\n",
       "    </tr>\n",
       "    <tr>\n",
       "      <th>56</th>\n",
       "      <td>Kyrgyz Republic</td>\n",
       "      <td>8.092837e+03</td>\n",
       "    </tr>\n",
       "    <tr>\n",
       "      <th>52</th>\n",
       "      <td>Fiji</td>\n",
       "      <td>5.536760e+03</td>\n",
       "    </tr>\n",
       "    <tr>\n",
       "      <th>58</th>\n",
       "      <td>Maldives</td>\n",
       "      <td>5.327457e+03</td>\n",
       "    </tr>\n",
       "    <tr>\n",
       "      <th>55</th>\n",
       "      <td>Bhutan</td>\n",
       "      <td>2.534965e+03</td>\n",
       "    </tr>\n",
       "  </tbody>\n",
       "</table>\n",
       "<p>62 rows × 2 columns</p>\n",
       "</div>"
      ],
      "text/plain": [
       "                       Country           GDP\n",
       "42               United States  2.054434e+07\n",
       "7   People's Republic of China  1.360815e+07\n",
       "24                       Japan  4.971323e+06\n",
       "10                     Germany  3.947620e+06\n",
       "16              United Kingdom  2.855297e+06\n",
       "..                         ...           ...\n",
       "49                    Mongolia  1.306675e+04\n",
       "56             Kyrgyz Republic  8.092837e+03\n",
       "52                        Fiji  5.536760e+03\n",
       "58                    Maldives  5.327457e+03\n",
       "55                      Bhutan  2.534965e+03\n",
       "\n",
       "[62 rows x 2 columns]"
      ]
     },
     "execution_count": 10,
     "metadata": {},
     "output_type": "execute_result"
    }
   ],
   "source": [
    "df_GDP.sort_values(inplace=True, by='GDP', ascending=False)\n",
    "df_GDP"
   ]
  },
  {
   "cell_type": "code",
   "execution_count": 11,
   "metadata": {},
   "outputs": [],
   "source": [
    "#Saving the CSV for Table GDPs\n",
    "\n",
    "df_GDP.to_csv('GDPs.csv', index=False)"
   ]
  },
  {
   "cell_type": "markdown",
   "metadata": {},
   "source": [
    "### Data Analysis\n",
    "\n",
    "> *Top 5 Affected Countries*"
   ]
  },
  {
   "cell_type": "code",
   "execution_count": 12,
   "metadata": {},
   "outputs": [],
   "source": [
    "df_Top5GDP = df[(df.Scenario == 'Longer containment, larger demand shock') & (df.Sector == '_All')]"
   ]
  },
  {
   "cell_type": "code",
   "execution_count": 13,
   "metadata": {},
   "outputs": [
    {
     "name": "stderr",
     "output_type": "stream",
     "text": [
      "/usr/lib/python3/dist-packages/ipykernel_launcher.py:2: SettingWithCopyWarning: \n",
      "A value is trying to be set on a copy of a slice from a DataFrame\n",
      "\n",
      "See the caveats in the documentation: http://pandas.pydata.org/pandas-docs/stable/user_guide/indexing.html#returning-a-view-versus-a-copy\n",
      "  \n"
     ]
    },
    {
     "data": {
      "text/html": [
       "<div>\n",
       "<style scoped>\n",
       "    .dataframe tbody tr th:only-of-type {\n",
       "        vertical-align: middle;\n",
       "    }\n",
       "\n",
       "    .dataframe tbody tr th {\n",
       "        vertical-align: top;\n",
       "    }\n",
       "\n",
       "    .dataframe thead th {\n",
       "        text-align: right;\n",
       "    }\n",
       "</style>\n",
       "<table border=\"1\" class=\"dataframe\">\n",
       "  <thead>\n",
       "    <tr style=\"text-align: right;\">\n",
       "      <th></th>\n",
       "      <th>Economy</th>\n",
       "      <th>ADB Country Code</th>\n",
       "      <th>Sector</th>\n",
       "      <th>Country 2018 GDP</th>\n",
       "      <th>Scenario</th>\n",
       "      <th>as % of total GDP</th>\n",
       "      <th>in $ Mn</th>\n",
       "      <th>Employment (in 000)</th>\n",
       "      <th>as % of sector GDP</th>\n",
       "      <th>as % of sector employment</th>\n",
       "    </tr>\n",
       "  </thead>\n",
       "  <tbody>\n",
       "    <tr>\n",
       "      <th>725</th>\n",
       "      <td>Maldives</td>\n",
       "      <td>MLD</td>\n",
       "      <td>_All</td>\n",
       "      <td>5327.45715</td>\n",
       "      <td>Longer containment, larger demand shock</td>\n",
       "      <td>-14.17</td>\n",
       "      <td>755.15</td>\n",
       "      <td>22</td>\n",
       "      <td>-14.17</td>\n",
       "      <td>-12.69</td>\n",
       "    </tr>\n",
       "    <tr>\n",
       "      <th>425</th>\n",
       "      <td>Cyprus</td>\n",
       "      <td>CYP</td>\n",
       "      <td>_All</td>\n",
       "      <td>24961.98866</td>\n",
       "      <td>Longer containment, larger demand shock</td>\n",
       "      <td>-10.94</td>\n",
       "      <td>NaN</td>\n",
       "      <td>45</td>\n",
       "      <td>-10.94</td>\n",
       "      <td>-12.37</td>\n",
       "    </tr>\n",
       "    <tr>\n",
       "      <th>575</th>\n",
       "      <td>Poland</td>\n",
       "      <td>POL</td>\n",
       "      <td>_All</td>\n",
       "      <td>585663.81480</td>\n",
       "      <td>Longer containment, larger demand shock</td>\n",
       "      <td>-8.81</td>\n",
       "      <td>NaN</td>\n",
       "      <td>1790</td>\n",
       "      <td>-8.81</td>\n",
       "      <td>-8.86</td>\n",
       "    </tr>\n",
       "    <tr>\n",
       "      <th>479</th>\n",
       "      <td>Greece</td>\n",
       "      <td>GRC</td>\n",
       "      <td>_All</td>\n",
       "      <td>218031.84460</td>\n",
       "      <td>Longer containment, larger demand shock</td>\n",
       "      <td>-8.40</td>\n",
       "      <td>NaN</td>\n",
       "      <td>355</td>\n",
       "      <td>-8.40</td>\n",
       "      <td>-6.84</td>\n",
       "    </tr>\n",
       "    <tr>\n",
       "      <th>545</th>\n",
       "      <td>Latvia</td>\n",
       "      <td>LVA</td>\n",
       "      <td>_All</td>\n",
       "      <td>34409.22918</td>\n",
       "      <td>Longer containment, larger demand shock</td>\n",
       "      <td>-8.14</td>\n",
       "      <td>NaN</td>\n",
       "      <td>86</td>\n",
       "      <td>-8.14</td>\n",
       "      <td>-7.27</td>\n",
       "    </tr>\n",
       "  </tbody>\n",
       "</table>\n",
       "</div>"
      ],
      "text/plain": [
       "      Economy ADB Country Code Sector  Country 2018 GDP  \\\n",
       "725  Maldives              MLD   _All        5327.45715   \n",
       "425    Cyprus              CYP   _All       24961.98866   \n",
       "575    Poland              POL   _All      585663.81480   \n",
       "479    Greece              GRC   _All      218031.84460   \n",
       "545    Latvia              LVA   _All       34409.22918   \n",
       "\n",
       "                                    Scenario  as % of total GDP   in $ Mn   \\\n",
       "725  Longer containment, larger demand shock             -14.17     755.15   \n",
       "425  Longer containment, larger demand shock             -10.94        NaN   \n",
       "575  Longer containment, larger demand shock              -8.81        NaN   \n",
       "479  Longer containment, larger demand shock              -8.40        NaN   \n",
       "545  Longer containment, larger demand shock              -8.14        NaN   \n",
       "\n",
       "     Employment (in 000)  as % of sector GDP  as % of sector employment  \n",
       "725                   22              -14.17                     -12.69  \n",
       "425                   45              -10.94                     -12.37  \n",
       "575                 1790               -8.81                      -8.86  \n",
       "479                  355               -8.40                      -6.84  \n",
       "545                   86               -8.14                      -7.27  "
      ]
     },
     "execution_count": 13,
     "metadata": {},
     "output_type": "execute_result"
    }
   ],
   "source": [
    "#Top 5\n",
    "df_Top5GDP.sort_values(inplace=True, by='as % of total GDP', ascending=True)\n",
    "df_Top5GDP.head()"
   ]
  },
  {
   "cell_type": "markdown",
   "metadata": {},
   "source": [
    "> Top 5 affected Sectors (GDP and Employment)"
   ]
  },
  {
   "cell_type": "code",
   "execution_count": 14,
   "metadata": {},
   "outputs": [],
   "source": [
    "sectors = ['Agriculture, Mining and Quarrying',\n",
    "       'Business, Trade, Personal, and Public Services',\n",
    "       'Hotel and restaurants and Other Personal Services',\n",
    "       'Light/Heavy Manufacturing, Utilities, and Construction',\n",
    "       'Transport services']\n",
    "\n",
    "impact = []"
   ]
  },
  {
   "cell_type": "code",
   "execution_count": 15,
   "metadata": {},
   "outputs": [
    {
     "name": "stdout",
     "output_type": "stream",
     "text": [
      "Agriculture, Mining and Quarrying:-4.140483870967741\n",
      "Business, Trade, Personal, and Public Services:-4.038870967741936\n",
      "Hotel and restaurants and Other Personal Services:-9.798709677419355\n",
      "Light/Heavy Manufacturing, Utilities, and Construction:-4.012903225806451\n",
      "Transport services:-14.283548387096777\n"
     ]
    }
   ],
   "source": [
    "df_Sec1 = df[(df.Sector == sectors[0]) & (df.Scenario == 'Longer containment, larger demand shock')]\n",
    "impact.append((df_Sec1['as % of sector GDP'].sum())/df_Sec1.shape[0])\n",
    "print(sectors[0] +\":\"+ str(impact[0]))\n",
    "\n",
    "df_Sec2 = df[(df.Sector == sectors[1]) & (df.Scenario == 'Longer containment, larger demand shock')]\n",
    "impact.append((df_Sec2['as % of sector GDP'].sum())/df_Sec1.shape[0])\n",
    "print(sectors[1] +\":\"+ str(impact[1]))\n",
    "\n",
    "df_Sec3 = df[(df.Sector == sectors[2]) & (df.Scenario == 'Longer containment, larger demand shock')]\n",
    "impact.append((df_Sec3['as % of sector GDP'].sum())/df_Sec1.shape[0])\n",
    "print(sectors[2] +\":\"+ str(impact[2]))\n",
    "\n",
    "df_Sec4 = df[(df.Sector == sectors[3]) & (df.Scenario == 'Longer containment, larger demand shock')]\n",
    "impact.append((df_Sec4['as % of sector GDP'].sum())/df_Sec1.shape[0])\n",
    "print(sectors[3] +\":\"+ str(impact[3]))\n",
    "\n",
    "df_Sec5 = df[(df.Sector == sectors[4]) & (df.Scenario == 'Longer containment, larger demand shock')]\n",
    "impact.append((df_Sec5['as % of sector GDP'].sum())/df_Sec1.shape[0])\n",
    "print(sectors[4] +\":\"+ str(impact[4]))"
   ]
  },
  {
   "cell_type": "code",
   "execution_count": 16,
   "metadata": {},
   "outputs": [],
   "source": [
    "impact = [abs(each) for each in impact]"
   ]
  },
  {
   "cell_type": "code",
   "execution_count": 17,
   "metadata": {},
   "outputs": [
    {
     "data": {
      "image/png": "[encoded data removed]",
      "text/plain": [
       "<Figure size 1440x576 with 1 Axes>"
      ]
     },
     "metadata": {},
     "output_type": "display_data"
    }
   ],
   "source": [
    "fig = plt.figure(figsize = (20, 8)) \n",
    "  \n",
    "# creating the bar plot \n",
    "plt.bar(sectors, impact, color ='maroon',  \n",
    "        width = 0.4) \n",
    "  \n",
    "plt.xlabel(\"Economic Sectors\") \n",
    "plt.ylabel(\"% affected\") \n",
    "plt.title(\"COVID-19 Impact on Economic Sectors\") \n",
    "plt.show() "
   ]
  },
  {
   "cell_type": "markdown",
   "metadata": {},
   "source": [
    "- Impact on Sector Employment "
   ]
  },
  {
   "cell_type": "code",
   "execution_count": 18,
   "metadata": {},
   "outputs": [
    {
     "name": "stdout",
     "output_type": "stream",
     "text": [
      "Agriculture, Mining and Quarrying:-3.80016129032258\n",
      "Business, Trade, Personal, and Public Services:-4.10483870967742\n",
      "Hotel and restaurants and Other Personal Services:-9.753870967741936\n",
      "Light/Heavy Manufacturing, Utilities, and Construction:-3.963709677419355\n",
      "Transport services:-13.629032258064516\n"
     ]
    }
   ],
   "source": [
    "impactEmp = []\n",
    "\n",
    "df_Sec1 = df[(df.Sector == sectors[0]) & (df.Scenario == 'Longer containment, larger demand shock')]\n",
    "impactEmp.append((df_Sec1['as % of sector employment'].sum())/df_Sec1.shape[0])\n",
    "print(sectors[0] +\":\"+ str(impactEmp[0]))\n",
    "\n",
    "df_Sec2 = df[(df.Sector == sectors[1]) & (df.Scenario == 'Longer containment, larger demand shock')]\n",
    "impactEmp.append((df_Sec2['as % of sector employment'].sum())/df_Sec1.shape[0])\n",
    "print(sectors[1] +\":\"+ str(impactEmp[1]))\n",
    "\n",
    "df_Sec3 = df[(df.Sector == sectors[2]) & (df.Scenario == 'Longer containment, larger demand shock')]\n",
    "impactEmp.append((df_Sec3['as % of sector employment'].sum())/df_Sec1.shape[0])\n",
    "print(sectors[2] +\":\"+ str(impactEmp[2]))\n",
    "\n",
    "df_Sec4 = df[(df.Sector == sectors[3]) & (df.Scenario == 'Longer containment, larger demand shock')]\n",
    "impactEmp.append((df_Sec4['as % of sector employment'].sum())/df_Sec1.shape[0])\n",
    "print(sectors[3] +\":\"+ str(impactEmp[3]))\n",
    "\n",
    "df_Sec5 = df[(df.Sector == sectors[4]) & (df.Scenario == 'Longer containment, larger demand shock')]\n",
    "impactEmp.append((df_Sec5['as % of sector employment'].sum())/df_Sec1.shape[0])\n",
    "print(sectors[4] +\":\"+ str(impactEmp[4]))"
   ]
  },
  {
   "cell_type": "markdown",
   "metadata": {},
   "source": [
    "### Making the table Impact (Country, Sector, % GDP, % Emp)"
   ]
  },
  {
   "cell_type": "code",
   "execution_count": 19,
   "metadata": {},
   "outputs": [],
   "source": [
    "df_Impact = df[df.Scenario == 'Longer containment, larger demand shock']"
   ]
  },
  {
   "cell_type": "code",
   "execution_count": 20,
   "metadata": {},
   "outputs": [
    {
     "name": "stderr",
     "output_type": "stream",
     "text": [
      "/home/sudharsan/.local/lib/python3.6/site-packages/pandas/core/frame.py:4117: SettingWithCopyWarning: \n",
      "A value is trying to be set on a copy of a slice from a DataFrame\n",
      "\n",
      "See the caveats in the documentation: http://pandas.pydata.org/pandas-docs/stable/user_guide/indexing.html#returning-a-view-versus-a-copy\n",
      "  errors=errors,\n"
     ]
    }
   ],
   "source": [
    "df_Impact.drop(['Country 2018 GDP', 'Scenario', 'ADB Country Code', ' in $ Mn ', 'Employment (in 000)', 'as % of sector GDP'], axis=1, inplace=True)"
   ]
  },
  {
   "cell_type": "code",
   "execution_count": 23,
   "metadata": {},
   "outputs": [
    {
     "data": {
      "text/html": [
       "<div>\n",
       "<style scoped>\n",
       "    .dataframe tbody tr th:only-of-type {\n",
       "        vertical-align: middle;\n",
       "    }\n",
       "\n",
       "    .dataframe tbody tr th {\n",
       "        vertical-align: top;\n",
       "    }\n",
       "\n",
       "    .dataframe thead th {\n",
       "        text-align: right;\n",
       "    }\n",
       "</style>\n",
       "<table border=\"1\" class=\"dataframe\">\n",
       "  <thead>\n",
       "    <tr style=\"text-align: right;\">\n",
       "      <th></th>\n",
       "      <th>Economy</th>\n",
       "      <th>Sector</th>\n",
       "      <th>as % of total GDP</th>\n",
       "      <th>as % of sector employment</th>\n",
       "    </tr>\n",
       "  </thead>\n",
       "  <tbody>\n",
       "    <tr>\n",
       "      <th>372</th>\n",
       "      <td>Australia</td>\n",
       "      <td>Agriculture, Mining and Quarrying</td>\n",
       "      <td>-0.59</td>\n",
       "      <td>-5.13</td>\n",
       "    </tr>\n",
       "    <tr>\n",
       "      <th>373</th>\n",
       "      <td>Australia</td>\n",
       "      <td>Business, Trade, Personal, and Public Services</td>\n",
       "      <td>-3.55</td>\n",
       "      <td>-5.87</td>\n",
       "    </tr>\n",
       "    <tr>\n",
       "      <th>374</th>\n",
       "      <td>Australia</td>\n",
       "      <td>Hotel and restaurants and Other Personal Services</td>\n",
       "      <td>-0.75</td>\n",
       "      <td>-15.38</td>\n",
       "    </tr>\n",
       "    <tr>\n",
       "      <th>375</th>\n",
       "      <td>Australia</td>\n",
       "      <td>Light/Heavy Manufacturing, Utilities, and Cons...</td>\n",
       "      <td>-1.01</td>\n",
       "      <td>-5.94</td>\n",
       "    </tr>\n",
       "    <tr>\n",
       "      <th>376</th>\n",
       "      <td>Australia</td>\n",
       "      <td>Transport services</td>\n",
       "      <td>-0.64</td>\n",
       "      <td>-15.29</td>\n",
       "    </tr>\n",
       "    <tr>\n",
       "      <th>...</th>\n",
       "      <td>...</td>\n",
       "      <td>...</td>\n",
       "      <td>...</td>\n",
       "      <td>...</td>\n",
       "    </tr>\n",
       "    <tr>\n",
       "      <th>739</th>\n",
       "      <td>Hong Kong, China</td>\n",
       "      <td>Business, Trade, Personal, and Public Services</td>\n",
       "      <td>-1.19</td>\n",
       "      <td>-1.40</td>\n",
       "    </tr>\n",
       "    <tr>\n",
       "      <th>740</th>\n",
       "      <td>Hong Kong, China</td>\n",
       "      <td>Hotel and restaurants and Other Personal Services</td>\n",
       "      <td>-0.20</td>\n",
       "      <td>-1.60</td>\n",
       "    </tr>\n",
       "    <tr>\n",
       "      <th>741</th>\n",
       "      <td>Hong Kong, China</td>\n",
       "      <td>Light/Heavy Manufacturing, Utilities, and Cons...</td>\n",
       "      <td>-0.06</td>\n",
       "      <td>-0.78</td>\n",
       "    </tr>\n",
       "    <tr>\n",
       "      <th>742</th>\n",
       "      <td>Hong Kong, China</td>\n",
       "      <td>Transport services</td>\n",
       "      <td>-1.29</td>\n",
       "      <td>-22.30</td>\n",
       "    </tr>\n",
       "    <tr>\n",
       "      <th>743</th>\n",
       "      <td>Hong Kong, China</td>\n",
       "      <td>_All</td>\n",
       "      <td>-2.74</td>\n",
       "      <td>-3.07</td>\n",
       "    </tr>\n",
       "  </tbody>\n",
       "</table>\n",
       "<p>372 rows × 4 columns</p>\n",
       "</div>"
      ],
      "text/plain": [
       "              Economy                                             Sector  \\\n",
       "372         Australia                  Agriculture, Mining and Quarrying   \n",
       "373         Australia     Business, Trade, Personal, and Public Services   \n",
       "374         Australia  Hotel and restaurants and Other Personal Services   \n",
       "375         Australia  Light/Heavy Manufacturing, Utilities, and Cons...   \n",
       "376         Australia                                 Transport services   \n",
       "..                ...                                                ...   \n",
       "739  Hong Kong, China     Business, Trade, Personal, and Public Services   \n",
       "740  Hong Kong, China  Hotel and restaurants and Other Personal Services   \n",
       "741  Hong Kong, China  Light/Heavy Manufacturing, Utilities, and Cons...   \n",
       "742  Hong Kong, China                                 Transport services   \n",
       "743  Hong Kong, China                                               _All   \n",
       "\n",
       "     as % of total GDP  as % of sector employment  \n",
       "372              -0.59                      -5.13  \n",
       "373              -3.55                      -5.87  \n",
       "374              -0.75                     -15.38  \n",
       "375              -1.01                      -5.94  \n",
       "376              -0.64                     -15.29  \n",
       "..                 ...                        ...  \n",
       "739              -1.19                      -1.40  \n",
       "740              -0.20                      -1.60  \n",
       "741              -0.06                      -0.78  \n",
       "742              -1.29                     -22.30  \n",
       "743              -2.74                      -3.07  \n",
       "\n",
       "[372 rows x 4 columns]"
      ]
     },
     "execution_count": 23,
     "metadata": {},
     "output_type": "execute_result"
    }
   ],
   "source": [
    "df_Impact.to_csv('Impact.csv', index=False)\n",
    "df_Impact"
   ]
  },
  {
   "cell_type": "markdown",
   "metadata": {},
   "source": [
    "### Making the table ImpactPredicted (Country, Sector, % GDP, % Emp)"
   ]
  },
  {
   "cell_type": "code",
   "execution_count": 24,
   "metadata": {},
   "outputs": [],
   "source": [
    "df_ImpactPredicted = df[df.Scenario == 'Additional impact under Longer containment, larger demand shock']"
   ]
  },
  {
   "cell_type": "code",
   "execution_count": 25,
   "metadata": {},
   "outputs": [
    {
     "name": "stderr",
     "output_type": "stream",
     "text": [
      "/home/sudharsan/.local/lib/python3.6/site-packages/pandas/core/frame.py:4117: SettingWithCopyWarning: \n",
      "A value is trying to be set on a copy of a slice from a DataFrame\n",
      "\n",
      "See the caveats in the documentation: http://pandas.pydata.org/pandas-docs/stable/user_guide/indexing.html#returning-a-view-versus-a-copy\n",
      "  errors=errors,\n"
     ]
    }
   ],
   "source": [
    "df_ImpactPredicted.drop(['Country 2018 GDP', 'Scenario', 'ADB Country Code', ' in $ Mn ', 'Employment (in 000)', 'as % of sector GDP'], axis=1, inplace=True)"
   ]
  },
  {
   "cell_type": "code",
   "execution_count": 26,
   "metadata": {},
   "outputs": [
    {
     "data": {
      "text/html": [
       "<div>\n",
       "<style scoped>\n",
       "    .dataframe tbody tr th:only-of-type {\n",
       "        vertical-align: middle;\n",
       "    }\n",
       "\n",
       "    .dataframe tbody tr th {\n",
       "        vertical-align: top;\n",
       "    }\n",
       "\n",
       "    .dataframe thead th {\n",
       "        text-align: right;\n",
       "    }\n",
       "</style>\n",
       "<table border=\"1\" class=\"dataframe\">\n",
       "  <thead>\n",
       "    <tr style=\"text-align: right;\">\n",
       "      <th></th>\n",
       "      <th>Economy</th>\n",
       "      <th>Sector</th>\n",
       "      <th>as % of total GDP</th>\n",
       "      <th>as % of sector employment</th>\n",
       "    </tr>\n",
       "  </thead>\n",
       "  <tbody>\n",
       "    <tr>\n",
       "      <th>1236</th>\n",
       "      <td>Indonesia</td>\n",
       "      <td>Agriculture, Mining and Quarrying</td>\n",
       "      <td>-0.80</td>\n",
       "      <td>-4.32</td>\n",
       "    </tr>\n",
       "    <tr>\n",
       "      <th>1237</th>\n",
       "      <td>Indonesia</td>\n",
       "      <td>Business, Trade, Personal, and Public Services</td>\n",
       "      <td>-1.72</td>\n",
       "      <td>-5.11</td>\n",
       "    </tr>\n",
       "    <tr>\n",
       "      <th>1238</th>\n",
       "      <td>Indonesia</td>\n",
       "      <td>Hotel and restaurants and Other Personal Services</td>\n",
       "      <td>-0.25</td>\n",
       "      <td>-4.88</td>\n",
       "    </tr>\n",
       "    <tr>\n",
       "      <th>1239</th>\n",
       "      <td>Indonesia</td>\n",
       "      <td>Light/Heavy Manufacturing, Utilities, and Cons...</td>\n",
       "      <td>-1.39</td>\n",
       "      <td>-4.34</td>\n",
       "    </tr>\n",
       "    <tr>\n",
       "      <th>1240</th>\n",
       "      <td>Indonesia</td>\n",
       "      <td>Transport services</td>\n",
       "      <td>-0.28</td>\n",
       "      <td>-4.84</td>\n",
       "    </tr>\n",
       "    <tr>\n",
       "      <th>...</th>\n",
       "      <td>...</td>\n",
       "      <td>...</td>\n",
       "      <td>...</td>\n",
       "      <td>...</td>\n",
       "    </tr>\n",
       "    <tr>\n",
       "      <th>1483</th>\n",
       "      <td>Hong Kong, China</td>\n",
       "      <td>Business, Trade, Personal, and Public Services</td>\n",
       "      <td>-2.28</td>\n",
       "      <td>-3.21</td>\n",
       "    </tr>\n",
       "    <tr>\n",
       "      <th>1484</th>\n",
       "      <td>Hong Kong, China</td>\n",
       "      <td>Hotel and restaurants and Other Personal Services</td>\n",
       "      <td>-0.27</td>\n",
       "      <td>-4.15</td>\n",
       "    </tr>\n",
       "    <tr>\n",
       "      <th>1485</th>\n",
       "      <td>Hong Kong, China</td>\n",
       "      <td>Light/Heavy Manufacturing, Utilities, and Cons...</td>\n",
       "      <td>-0.37</td>\n",
       "      <td>-4.64</td>\n",
       "    </tr>\n",
       "    <tr>\n",
       "      <th>1486</th>\n",
       "      <td>Hong Kong, China</td>\n",
       "      <td>Transport services</td>\n",
       "      <td>-0.09</td>\n",
       "      <td>-1.57</td>\n",
       "    </tr>\n",
       "    <tr>\n",
       "      <th>1487</th>\n",
       "      <td>Hong Kong, China</td>\n",
       "      <td>_All</td>\n",
       "      <td>-3.01</td>\n",
       "      <td>-3.48</td>\n",
       "    </tr>\n",
       "  </tbody>\n",
       "</table>\n",
       "<p>132 rows × 4 columns</p>\n",
       "</div>"
      ],
      "text/plain": [
       "               Economy                                             Sector  \\\n",
       "1236         Indonesia                  Agriculture, Mining and Quarrying   \n",
       "1237         Indonesia     Business, Trade, Personal, and Public Services   \n",
       "1238         Indonesia  Hotel and restaurants and Other Personal Services   \n",
       "1239         Indonesia  Light/Heavy Manufacturing, Utilities, and Cons...   \n",
       "1240         Indonesia                                 Transport services   \n",
       "...                ...                                                ...   \n",
       "1483  Hong Kong, China     Business, Trade, Personal, and Public Services   \n",
       "1484  Hong Kong, China  Hotel and restaurants and Other Personal Services   \n",
       "1485  Hong Kong, China  Light/Heavy Manufacturing, Utilities, and Cons...   \n",
       "1486  Hong Kong, China                                 Transport services   \n",
       "1487  Hong Kong, China                                               _All   \n",
       "\n",
       "      as % of total GDP  as % of sector employment  \n",
       "1236              -0.80                      -4.32  \n",
       "1237              -1.72                      -5.11  \n",
       "1238              -0.25                      -4.88  \n",
       "1239              -1.39                      -4.34  \n",
       "1240              -0.28                      -4.84  \n",
       "...                 ...                        ...  \n",
       "1483              -2.28                      -3.21  \n",
       "1484              -0.27                      -4.15  \n",
       "1485              -0.37                      -4.64  \n",
       "1486              -0.09                      -1.57  \n",
       "1487              -3.01                      -3.48  \n",
       "\n",
       "[132 rows x 4 columns]"
      ]
     },
     "execution_count": 26,
     "metadata": {},
     "output_type": "execute_result"
    }
   ],
   "source": [
    "df_ImpactPredicted.to_csv('ImpactPredicted.csv', index=False)\n",
    "df_ImpactPredicted"
   ]
  }
 ],
 "metadata": {
  "kernelspec": {
   "display_name": "Python 3",
   "language": "python",
   "name": "python3"
  },
  "language_info": {
   "codemirror_mode": {
    "name": "ipython",
    "version": 3
   },
   "file_extension": ".py",
   "mimetype": "text/x-python",
   "name": "python",
   "nbconvert_exporter": "python",
   "pygments_lexer": "ipython3",
   "version": "3.6.9"
  }
 },
 "nbformat": 4,
 "nbformat_minor": 2
}
